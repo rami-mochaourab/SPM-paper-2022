{
 "cells": [
  {
   "cell_type": "markdown",
   "metadata": {
    "id": "rWpMU50JH2M7"
   },
   "source": [
    "## Load libraries"
   ]
  },
  {
   "cell_type": "code",
   "execution_count": 1,
   "metadata": {
    "id": "DAcHq4gdo3os"
   },
   "outputs": [],
   "source": [
    "import numpy as np\n",
    "\n",
    "import matplotlib.pyplot as plt\n",
    "plt.style.reload_library()\n",
    "\n",
    "from sklearn.model_selection import train_test_split\n",
    "from sklearn.ensemble import ExtraTreesClassifier\n",
    "from sklearn.preprocessing import normalize\n",
    "from sklearn.neighbors import KNeighborsClassifier\n",
    "from sklearn.preprocessing import LabelEncoder\n",
    "\n",
    "from wildboar.datasets import load_dataset\n",
    "from wildboar.ensemble import ShapeletForestClassifier\n",
    "from wildboar.explain.counterfactual import counterfactuals\n",
    "\n",
    "from tqdm.notebook import tqdm\n",
    "\n",
    "import shap\n",
    "\n",
    "# Growing spheres\n",
    "from growingspheres.growingspheres import counterfactuals as counterfactuals_gs\n",
    "from growingspheres.growingspheres import growingspheres\n",
    "from growingspheres.growingspheres.utils import gs_utils"
   ]
  },
  {
   "cell_type": "markdown",
   "metadata": {
    "id": "SX2tjX_qE5lV"
   },
   "source": [
    "## Load dataset and split into train and test data"
   ]
  },
  {
   "cell_type": "code",
   "execution_count": 2,
   "metadata": {},
   "outputs": [
    {
     "name": "stdout",
     "output_type": "stream",
     "text": [
      "Dataset: GunPoint\n",
      "Classes: [0 1]\n",
      "Dataset size: 200\n",
      "Time series length: 150\n",
      "Size class 0 : 50.0 %\n",
      "Size class 1 : 50.0 %\n"
     ]
    }
   ],
   "source": [
    "dataset = \"GunPoint\"\n",
    "\n",
    "x_all, y_all = load_dataset(dataset, repository='wildboar/ucr')\n",
    "\n",
    "# remove rows with missing values\n",
    "x = x_all[~np.isnan(x_all).any(axis=1)]\n",
    "y_up = y_all[~np.isnan(x_all).any(axis=1)]\n",
    "\n",
    "# change labels 0,1,...\n",
    "le = LabelEncoder()\n",
    "y = le.fit_transform(y_up)\n",
    "\n",
    "classes = np.unique(y) # all class labels\n",
    "total_examples, ts_length = x.shape\n",
    "\n",
    "# Data split\n",
    "x_train, x_test, y_train, y_test = train_test_split(x, y, test_size=.30, random_state=4, shuffle=True, stratify=None)\n",
    "\n",
    "print('Dataset:', dataset)\n",
    "print('Classes:', classes)\n",
    "print('Dataset size:', total_examples)\n",
    "print('Time series length:', ts_length)\n",
    "for i in classes:\n",
    "    print('Size class', i, \":\", 100*np.sum(y==i)/total_examples,\"%\")"
   ]
  },
  {
   "cell_type": "markdown",
   "metadata": {},
   "source": [
    "## Train classifiers : Random Shapelet Forrest and K-Nearest Neighbors"
   ]
  },
  {
   "cell_type": "code",
   "execution_count": 3,
   "metadata": {},
   "outputs": [
    {
     "name": "stdout",
     "output_type": "stream",
     "text": [
      "Model score RSF: 0.95\n",
      "Model score kNN: 0.9166666666666666\n"
     ]
    }
   ],
   "source": [
    "y_train[y_train != 1.0] = -1.0\n",
    "y_test[y_test != 1.0] = -1.0\n",
    "\n",
    "clf_RSF = ShapeletForestClassifier(\n",
    "        n_estimators=100, \n",
    "        metric='euclidean', \n",
    "        max_depth=20, \n",
    "        max_shapelet_size=.4,\n",
    "        random_state=123,\n",
    "        n_shapelets=3,\n",
    "    )\n",
    "clf_RSF.n_features_in_ = x_train.shape[-1]\n",
    "\n",
    "clf_kNN = KNeighborsClassifier(metric=\"euclidean\")\n",
    "\n",
    "clf_RSF.fit(x_train, y_train)\n",
    "clf_kNN.fit(x_train, y_train)\n",
    "\n",
    "print(\"Model score RSF:\", clf_RSF.score(x_test, y_test))\n",
    "print(\"Model score kNN:\", clf_kNN.score(x_test, y_test))"
   ]
  },
  {
   "cell_type": "markdown",
   "metadata": {},
   "source": [
    "## Counterfactual Explanations using Shapelet Tweeking"
   ]
  },
  {
   "cell_type": "code",
   "execution_count": 4,
   "metadata": {},
   "outputs": [
    {
     "name": "stdout",
     "output_type": "stream",
     "text": [
      "Proximity RSF:  1.7128263642970447\n",
      "Proximity kNN:  3.8461433288408156\n",
      "Validity RSF:  1.0\n",
      "Validity kNN:  1.0\n"
     ]
    },
    {
     "name": "stderr",
     "output_type": "stream",
     "text": [
      "'scoring' was renamed to 'proximity' 1.1 and will be removed in 1.2.\n",
      "'valid_scoring' has been deprecated in 1.1 and will be removed in 1.2\n",
      "'scoring' was renamed to 'proximity' 1.1 and will be removed in 1.2.\n",
      "'valid_scoring' has been deprecated in 1.1 and will be removed in 1.2\n"
     ]
    }
   ],
   "source": [
    "x_counterfactual_RSF, x_valid_RSF, x_score_RSF = counterfactuals(\n",
    "    clf_RSF, \n",
    "    x_test, \n",
    "    -y_test, # invert the classes, i.e., transform 1 -> -1 and -1 -> 1\n",
    "    scoring=\"euclidean\",\n",
    "    valid_scoring=False,\n",
    "    random_state=2,\n",
    "  )\n",
    "x_counterfactual_kNN, x_valid_kNN, x_score_kNN = counterfactuals(\n",
    "    clf_kNN, \n",
    "    x_test, \n",
    "    -y_test, # invert the classes, i.e., transform 1 -> -1 and -1 -> 1\n",
    "    scoring=\"euclidean\",\n",
    "    valid_scoring=False,\n",
    "  )\n",
    "\n",
    "print(\"Proximity RSF: \", np.mean(x_score_RSF))\n",
    "print(\"Proximity kNN: \", np.mean(x_score_kNN))\n",
    "print(\"Validity RSF: \", np.sum(x_valid_RSF) / x_test.shape[0])\n",
    "print(\"Validity kNN: \", np.sum(x_valid_kNN) / x_test.shape[0])"
   ]
  },
  {
   "cell_type": "markdown",
   "metadata": {
    "tags": []
   },
   "source": [
    "## Figure 3(a)"
   ]
  },
  {
   "cell_type": "code",
   "execution_count": 5,
   "metadata": {},
   "outputs": [
    {
     "data": {
      "image/png": "[encoded data removed]",
      "text/plain": [
       "<Figure size 432x216 with 1 Axes>"
      ]
     },
     "metadata": {
      "needs_background": "light"
     },
     "output_type": "display_data"
    }
   ],
   "source": [
    "# Selected instance\n",
    "sel_instance_idx = 4\n",
    "\n",
    "x_counter_RSF = x_counterfactual_RSF[sel_instance_idx, :]\n",
    "x_counter_kNN = x_counterfactual_kNN[sel_instance_idx, :]\n",
    "\n",
    "fig = plt.figure(figsize=(6,3))\n",
    "ax = fig.add_subplot()\n",
    "\n",
    "ax.plot(x_counterfactual_RSF[sel_instance_idx, :], \"-\", c=\"tab:blue\", label=\"CE: RSF\")\n",
    "ax.plot(x_counterfactual_kNN[sel_instance_idx, :], \"-.\", c=\"tab:red\", label=\"CE: kNN\")\n",
    "ax.plot(x_test[sel_instance_idx, :], \"--\", c=\"k\", label=\"class 1 time series\")\n",
    "ax.set_ylabel('horizontal position of right hand')\n",
    "ax.set_xlabel('time index')\n",
    "ax.grid()\n",
    "ax.legend()\n",
    "plt.savefig(\"figures/fig4a.pdf\", dpi=100, bbox_inches=\"tight\", format=\"pdf\")"
   ]
  },
  {
   "cell_type": "markdown",
   "metadata": {},
   "source": [
    "## Transform all time series to the frequency domain and train ExtraTreesClassifier"
   ]
  },
  {
   "cell_type": "code",
   "execution_count": 6,
   "metadata": {},
   "outputs": [
    {
     "name": "stdout",
     "output_type": "stream",
     "text": [
      "Avg Accuracy: 1.0\n"
     ]
    }
   ],
   "source": [
    "\n",
    "max_len_coef = int(ts_length/2 + 1) # maximum number of coefficients\n",
    "\n",
    "X_F_train = np.fft.rfft(x_train)\n",
    "X_F_test = np.fft.rfft(x_test)\n",
    "\n",
    "\n",
    "X_F_train_amp, train_norm_amp = normalize(np.absolute(X_F_train),return_norm=1)  # amplitude\n",
    "X_F_train_ang = normalize(np.angle(X_F_train)) # phase\n",
    "X_F_test_amp, test_norm_amp = normalize(np.absolute(X_F_test),return_norm=1)    # amplitude\n",
    "X_F_test_ang, test_norm_ang = normalize(np.angle(X_F_test),return_norm=1)       # phase\n",
    "\n",
    "# combine amp and phase into one array\n",
    "X_F_train_amp_ang = np.empty((len(x_train),2*max_len_coef))\n",
    "X_F_train_amp_ang[:,0::2] = X_F_train_amp\n",
    "X_F_train_amp_ang[:,1::2] = X_F_train_ang\n",
    "X_F_test_amp_ang = np.empty((len(x_test),2*max_len_coef))\n",
    "X_F_test_amp_ang[:,0::2] = X_F_test_amp\n",
    "X_F_test_amp_ang[:,1::2] = X_F_test_ang\n",
    "\n",
    "# selected number of features\n",
    "L = 10 # Select only first L <= max_len_coef coefficients\n",
    "\n",
    "features_train = X_F_train_amp[:,:L]\n",
    "features_test = X_F_test_amp[:,:L]\n",
    "\n",
    "features = np.concatenate((features_test,features_train))\n",
    "y_true_all = np.concatenate((y_train,y_test))\n",
    "feature_labels = range(1,L+1)\n",
    "\n",
    "# Classifier\n",
    "model = ExtraTreesClassifier(random_state=1)\n",
    "model.fit(features_train, y_train)\n",
    "\n",
    "y_pred = model.predict(features_test)\n",
    "y_pred_all = model.predict(features)\n",
    "y_pred_proba = model.predict_proba(features_test)\n",
    "\n",
    "accuracy = model.score(features_test, y_test)\n",
    "print(\"Avg Accuracy:\", accuracy)"
   ]
  },
  {
   "cell_type": "markdown",
   "metadata": {},
   "source": [
    "## Counterfactual Explanations using Growing Spheres"
   ]
  },
  {
   "cell_type": "code",
   "execution_count": 7,
   "metadata": {},
   "outputs": [
    {
     "data": {
      "application/vnd.jupyter.widget-view+json": {
       "model_id": "3548aea351f9473982e6c37ba2957530",
       "version_major": 2,
       "version_minor": 0
      },
      "text/plain": [
       "  0%|          | 0/10 [00:00<?, ?it/s]"
      ]
     },
     "metadata": {},
     "output_type": "display_data"
    }
   ],
   "source": [
    "rands = 10 # in the paper, we averaged over 1000 runs\n",
    "\n",
    "ce = []\n",
    "\n",
    "for i in tqdm(range(rands)):\n",
    "\n",
    "    obs = X_F_test_amp[sel_instance_idx,:L].reshape(1,-1)\n",
    "\n",
    "    CF = counterfactuals_gs.CounterfactualExplanation(obs, model.predict, target_class = None, method='GS', random_state = 123)\n",
    "    CF.fit(n_in_layer=2000, first_radius=5, dicrease_radius=10, sparse=False, verbose=False)\n",
    "\n",
    "    ce.append(CF.enemy)"
   ]
  },
  {
   "cell_type": "markdown",
   "metadata": {},
   "source": [
    "## Figure 4(b)"
   ]
  },
  {
   "cell_type": "code",
   "execution_count": 8,
   "metadata": {},
   "outputs": [
    {
     "data": {
      "image/png": "[encoded data removed]",
      "text/plain": [
       "<Figure size 432x216 with 1 Axes>"
      ]
     },
     "metadata": {
      "needs_background": "light"
     },
     "output_type": "display_data"
    }
   ],
   "source": [
    "changes_all = np.array(ce/obs) - 1\n",
    "\n",
    "changes = np.mean(changes_all, axis=0)\n",
    "\n",
    "changes[0] = np.nan\n",
    "changes_inc = changes.copy()\n",
    "changes_dec = changes.copy()\n",
    "\n",
    "changes_inc[changes <= 0] = np.nan\n",
    "changes_dec[changes > 0] = np.nan\n",
    "\n",
    "x_labels = range(1,L+1)\n",
    "\n",
    "fig = plt.figure(figsize=(6,3))\n",
    "ax = fig.add_subplot()\n",
    "ax.bar(x_labels, 100*(changes_inc), width=0.5, facecolor=\"tab:blue\")\n",
    "ax.bar(x_labels, 100*(changes_dec), width=0.5, facecolor=\"tab:red\")\n",
    "ax.set_ylabel('avg. counterfactual change [%]')\n",
    "ax.set_xlabel('feature index')\n",
    "plt.xticks(ticks = x_labels)\n",
    "ax.grid(1)\n",
    "#ax.set_ylim(-20,50)\n",
    "#ax.legend(loc=2)\n",
    "plt.savefig(\"figures/fig4b.pdf\", dpi=100, bbox_inches=\"tight\", format=\"pdf\")"
   ]
  },
  {
   "cell_type": "markdown",
   "metadata": {},
   "source": [
    "## Feature attribution with SHAP"
   ]
  },
  {
   "cell_type": "code",
   "execution_count": 9,
   "metadata": {},
   "outputs": [],
   "source": [
    "SHAP_model = \"Exact\" # or \"KernelSHAP\"\n",
    "\n",
    "if SHAP_model == \"KernelSHAP\":\n",
    "    explainer = shap.KernelExplainer(model.predict_proba,features_test)\n",
    "    shap_values = explainer.shap_values(features_test) # try on whole data set\n",
    "\n",
    "    exp_val_0 = np.expand_dims(np.array([explainer.expected_value[class_pred_0]]*len(features_test)),axis=1)\n",
    "    exp_val_1 = np.expand_dims(np.array([explainer.expected_value[class_pred_1]]*len(features_test)),axis=1)\n",
    "\n",
    "    SV_0 = np.concatenate( (exp_val_0,shap_values[class_pred_0]), axis = 1 ) # SHAP values. First index is for the base value\n",
    "    SV_1 = np.concatenate( (exp_val_1,shap_values[class_pred_1]), axis = 1 )\n",
    "\n",
    "elif SHAP_model == \"Exact\":\n",
    "    explainer = shap.explainers.Exact(model.predict_proba,features_test)\n",
    "    shap_values = explainer(features_test)\n",
    "    SV_0 = np.concatenate( (np.expand_dims(shap_values[:,:,0].base_values, axis=1),shap_values[:,:,0].values), axis = 1 ) # SHAP values. First index is for the base value\n",
    "    SV_1 = np.concatenate( (np.expand_dims(shap_values[:,:,1].base_values, axis=1),shap_values[:,:,1].values), axis = 1 )\n"
   ]
  },
  {
   "cell_type": "markdown",
   "metadata": {},
   "source": [
    "## Figure 5"
   ]
  },
  {
   "cell_type": "code",
   "execution_count": 10,
   "metadata": {},
   "outputs": [
    {
     "data": {
      "image/png": "[encoded data removed]",
      "text/plain": [
       "<Figure size 432x288 with 1 Axes>"
      ]
     },
     "metadata": {
      "needs_background": "light"
     },
     "output_type": "display_data"
    }
   ],
   "source": [
    "cex_explainer = explainer(CF.enemy.reshape(1,-1))\n",
    "\n",
    "class_pred_1 = np.argmax(y_pred_proba[sel_instance_idx]) # change class labels to 0, 1\n",
    "\n",
    "x_labels = range(0,L+1)\n",
    "\n",
    "fig = plt.figure()\n",
    "ax = fig.add_subplot()\n",
    "\n",
    "ax.plot(x_labels,np.cumsum(SV_1[sel_instance_idx]), \"k--\", label=\"class 1 time series\", ds=\"steps\")\n",
    "ax.plot(x_labels,np.cumsum(np.concatenate(([shap_values[sel_instance_idx,:,class_pred_1].base_values],cex_explainer[:,:,class_pred_1].values.squeeze()))), \"-\", c=\"tab:blue\", label=\"CE: Freq domain\", ds=\"steps\")\n",
    "\n",
    "ax.axhline(y=y_pred_proba[sel_instance_idx][class_pred_1], ls = \":\", color=\"k\")\n",
    "\n",
    "ax.axhline(y=SV_1[sel_instance_idx,0], ls = \":\", color=\"k\")\n",
    "\n",
    "ax.set_ylabel('cumulative sum of Shapley values')\n",
    "ax.set_xlabel('feature index')\n",
    "plt.xticks(ticks = x_labels)\n",
    "ax.grid(1)\n",
    "ax.legend(loc=5)\n",
    "plt.savefig(\"figures/fig5.pdf\", dpi=100, bbox_inches=\"tight\", format=\"pdf\")"
   ]
  }
 ],
 "metadata": {
  "colab": {
   "collapsed_sections": [
    "rWpMU50JH2M7",
    "qjVC9cgPIGlg"
   ],
   "name": "SPM TSexplainability.ipynb",
   "provenance": [],
   "toc_visible": true
  },
  "kernelspec": {
   "display_name": "Python 3 (ipykernel)",
   "language": "python",
   "name": "python3"
  },
  "language_info": {
   "codemirror_mode": {
    "name": "ipython",
    "version": 3
   },
   "file_extension": ".py",
   "mimetype": "text/x-python",
   "name": "python",
   "nbconvert_exporter": "python",
   "pygments_lexer": "ipython3",
   "version": "3.9.12"
  },
  "widgets": {
   "application/vnd.jupyter.widget-state+json": {
    "1fbce0ce74484155928d19e86e0d8e68": {
     "model_module": "@jupyter-widgets/base",
     "model_module_version": "1.2.0",
     "model_name": "LayoutModel",
     "state": {
      "_model_module": "@jupyter-widgets/base",
      "_model_module_version": "1.2.0",
      "_model_name": "LayoutModel",
      "_view_count": null,
      "_view_module": "@jupyter-widgets/base",
      "_view_module_version": "1.2.0",
      "_view_name": "LayoutView",
      "align_content": null,
      "align_items": null,
      "align_self": null,
      "border": null,
      "bottom": null,
      "display": null,
      "flex": null,
      "flex_flow": null,
      "grid_area": null,
      "grid_auto_columns": null,
      "grid_auto_flow": null,
      "grid_auto_rows": null,
      "grid_column": null,
      "grid_gap": null,
      "grid_row": null,
      "grid_template_areas": null,
      "grid_template_columns": null,
      "grid_template_rows": null,
      "height": null,
      "justify_content": null,
      "justify_items": null,
      "left": null,
      "margin": null,
      "max_height": null,
      "max_width": null,
      "min_height": null,
      "min_width": null,
      "object_fit": null,
      "object_position": null,
      "order": null,
      "overflow": null,
      "overflow_x": null,
      "overflow_y": null,
      "padding": null,
      "right": null,
      "top": null,
      "visibility": null,
      "width": null
     }
    },
    "2bd4713048d94d3b902b84368a079b0f": {
     "model_module": "@jupyter-widgets/controls",
     "model_module_version": "1.5.0",
     "model_name": "FloatProgressModel",
     "state": {
      "_dom_classes": [],
      "_model_module": "@jupyter-widgets/controls",
      "_model_module_version": "1.5.0",
      "_model_name": "FloatProgressModel",
      "_view_count": null,
      "_view_module": "@jupyter-widgets/controls",
      "_view_module_version": "1.5.0",
      "_view_name": "ProgressView",
      "bar_style": "success",
      "description": "100%",
      "description_tooltip": null,
      "layout": "IPY_MODEL_1fbce0ce74484155928d19e86e0d8e68",
      "max": 60,
      "min": 0,
      "orientation": "horizontal",
      "style": "IPY_MODEL_c7bba8b218894aa8b2a0c276a06ac31c",
      "value": 60
     }
    },
    "4679b4191200432ba1d8ec48e42bd2ce": {
     "model_module": "@jupyter-widgets/base",
     "model_module_version": "1.2.0",
     "model_name": "LayoutModel",
     "state": {
      "_model_module": "@jupyter-widgets/base",
      "_model_module_version": "1.2.0",
      "_model_name": "LayoutModel",
      "_view_count": null,
      "_view_module": "@jupyter-widgets/base",
      "_view_module_version": "1.2.0",
      "_view_name": "LayoutView",
      "align_content": null,
      "align_items": null,
      "align_self": null,
      "border": null,
      "bottom": null,
      "display": null,
      "flex": null,
      "flex_flow": null,
      "grid_area": null,
      "grid_auto_columns": null,
      "grid_auto_flow": null,
      "grid_auto_rows": null,
      "grid_column": null,
      "grid_gap": null,
      "grid_row": null,
      "grid_template_areas": null,
      "grid_template_columns": null,
      "grid_template_rows": null,
      "height": null,
      "justify_content": null,
      "justify_items": null,
      "left": null,
      "margin": null,
      "max_height": null,
      "max_width": null,
      "min_height": null,
      "min_width": null,
      "object_fit": null,
      "object_position": null,
      "order": null,
      "overflow": null,
      "overflow_x": null,
      "overflow_y": null,
      "padding": null,
      "right": null,
      "top": null,
      "visibility": null,
      "width": null
     }
    },
    "9b3c81e73df2486fabe2ec2566b19d79": {
     "model_module": "@jupyter-widgets/controls",
     "model_module_version": "1.5.0",
     "model_name": "HTMLModel",
     "state": {
      "_dom_classes": [],
      "_model_module": "@jupyter-widgets/controls",
      "_model_module_version": "1.5.0",
      "_model_name": "HTMLModel",
      "_view_count": null,
      "_view_module": "@jupyter-widgets/controls",
      "_view_module_version": "1.5.0",
      "_view_name": "HTMLView",
      "description": "",
      "description_tooltip": null,
      "layout": "IPY_MODEL_b0cb1f7d25db4f2d89bad1cd5afc3a0f",
      "placeholder": "​",
      "style": "IPY_MODEL_fee2649187c243ad968fbc3d53f84420",
      "value": " 60/60 [01:32&lt;00:00,  1.54s/it]"
     }
    },
    "b0cb1f7d25db4f2d89bad1cd5afc3a0f": {
     "model_module": "@jupyter-widgets/base",
     "model_module_version": "1.2.0",
     "model_name": "LayoutModel",
     "state": {
      "_model_module": "@jupyter-widgets/base",
      "_model_module_version": "1.2.0",
      "_model_name": "LayoutModel",
      "_view_count": null,
      "_view_module": "@jupyter-widgets/base",
      "_view_module_version": "1.2.0",
      "_view_name": "LayoutView",
      "align_content": null,
      "align_items": null,
      "align_self": null,
      "border": null,
      "bottom": null,
      "display": null,
      "flex": null,
      "flex_flow": null,
      "grid_area": null,
      "grid_auto_columns": null,
      "grid_auto_flow": null,
      "grid_auto_rows": null,
      "grid_column": null,
      "grid_gap": null,
      "grid_row": null,
      "grid_template_areas": null,
      "grid_template_columns": null,
      "grid_template_rows": null,
      "height": null,
      "justify_content": null,
      "justify_items": null,
      "left": null,
      "margin": null,
      "max_height": null,
      "max_width": null,
      "min_height": null,
      "min_width": null,
      "object_fit": null,
      "object_position": null,
      "order": null,
      "overflow": null,
      "overflow_x": null,
      "overflow_y": null,
      "padding": null,
      "right": null,
      "top": null,
      "visibility": null,
      "width": null
     }
    },
    "c7bba8b218894aa8b2a0c276a06ac31c": {
     "model_module": "@jupyter-widgets/controls",
     "model_module_version": "1.5.0",
     "model_name": "ProgressStyleModel",
     "state": {
      "_model_module": "@jupyter-widgets/controls",
      "_model_module_version": "1.5.0",
      "_model_name": "ProgressStyleModel",
      "_view_count": null,
      "_view_module": "@jupyter-widgets/base",
      "_view_module_version": "1.2.0",
      "_view_name": "StyleView",
      "bar_color": null,
      "description_width": "initial"
     }
    },
    "de306d595a194bfb9233307a63560793": {
     "model_module": "@jupyter-widgets/controls",
     "model_module_version": "1.5.0",
     "model_name": "HBoxModel",
     "state": {
      "_dom_classes": [],
      "_model_module": "@jupyter-widgets/controls",
      "_model_module_version": "1.5.0",
      "_model_name": "HBoxModel",
      "_view_count": null,
      "_view_module": "@jupyter-widgets/controls",
      "_view_module_version": "1.5.0",
      "_view_name": "HBoxView",
      "box_style": "",
      "children": [
       "IPY_MODEL_2bd4713048d94d3b902b84368a079b0f",
       "IPY_MODEL_9b3c81e73df2486fabe2ec2566b19d79"
      ],
      "layout": "IPY_MODEL_4679b4191200432ba1d8ec48e42bd2ce"
     }
    },
    "fee2649187c243ad968fbc3d53f84420": {
     "model_module": "@jupyter-widgets/controls",
     "model_module_version": "1.5.0",
     "model_name": "DescriptionStyleModel",
     "state": {
      "_model_module": "@jupyter-widgets/controls",
      "_model_module_version": "1.5.0",
      "_model_name": "DescriptionStyleModel",
      "_view_count": null,
      "_view_module": "@jupyter-widgets/base",
      "_view_module_version": "1.2.0",
      "_view_name": "StyleView",
      "description_width": ""
     }
    }
   }
  }
 },
 "nbformat": 4,
 "nbformat_minor": 4
}
